{
  "cells": [
    {
      "cell_type": "markdown",
      "metadata": {
        "id": "view-in-github",
        "colab_type": "text"
      },
      "source": [
        "<a href=\"https://colab.research.google.com/github/adityaraj4400/Opinion-mining-on-sarcasm-detection/blob/main/Code/Opinion_mining_on_sarcasm_detection.ipynb\" target=\"_parent\"><img src=\"https://colab.research.google.com/assets/colab-badge.svg\" alt=\"Open In Colab\"/></a>"
      ]
    },
    {
      "cell_type": "code",
      "execution_count": null,
      "metadata": {
        "id": "xzGE_YbmDIf5"
      },
      "outputs": [],
      "source": [
        "import numpy as np\n",
        "import pandas as pd\n",
        "import sklearn.metrics as mt\n",
        "from tabulate import tabulate\n",
        "from sklearn.svm import LinearSVC\n",
        "import sklearn.model_selection as ms\n",
        "from matplotlib import pyplot as plt\n",
        "from sklearn.pipeline import make_pipeline\n",
        "from sklearn.preprocessing import Normalizer\n",
        "from sklearn.decomposition import TruncatedSVD\n",
        "from sklearn.feature_extraction.text import TfidfVectorizer\n",
        "from sklearn.metrics import confusion_matrix\n",
        "from keras.models import Sequential\n",
        "from sklearn.model_selection import train_test_split\n"
      ]
    },
    {
      "cell_type": "code",
      "execution_count": null,
      "metadata": {
        "id": "X54OKOGjDTIi"
      },
      "outputs": [],
      "source": [
        "filename = '/content/drive/MyDrive/majorprojet/amazon_unlocked_mobile_datasets_with_sentiment.csv'\n",
        "names = ['product.name', 'brand.name', 'review.text', 'review.process', 'review.tokened', 'score', 'sentiment']\n",
        "fields = ['review.tokened', 'sentiment']\n",
        "review = pd.read_csv(filename ,names=names, usecols=fields)"
      ]
    },
    {
      "cell_type": "code",
      "execution_count": null,
      "metadata": {
        "colab": {
          "base_uri": "https://localhost:8080/"
        },
        "id": "-HTRimPkDXtW",
        "outputId": "9dc08bc6-d37f-4fbd-e07f-6d941f185b51"
      },
      "outputs": [
        {
          "output_type": "stream",
          "name": "stdout",
          "text": [
            "<class 'pandas.core.frame.DataFrame'>\n",
            "RangeIndex: 64754 entries, 0 to 64753\n",
            "Data columns (total 7 columns):\n",
            " #   Column                                                                                                                                                                                                                                                                                                                                                                                  Non-Null Count  Dtype  \n",
            "---  ------                                                                                                                                                                                                                                                                                                                                                                                  --------------  -----  \n",
            " 0   \"CLEAR CLEAN ESN\" Sprint EPIC 4G Galaxy SPH-D700*FRONT CAMERA*ANDROID*SLIDER*QWERTY KEYBOARD*TOUCH SCREEN                                                                                                                                                                                                                                                                               64754 non-null  object \n",
            " 1   Samsung                                                                                                                                                                                                                                                                                                                                                                                 64754 non-null  object \n",
            " 2   I feel so LUCKY to have found this used (phone to us & not used hard at all), phone on line from someone who upgraded and sold this one. My Son liked his old one that finally fell apart after 2.5+ years and didn't want an upgrade!! Thank you Seller, we really appreciate it & your honesty re: said used phone.I recommend this seller very highly & would but from them again!!  64754 non-null  object \n",
            " 3   i feel so lucky to have found this used phone to us not used hard at all phone on line from someone who upgraded and sold this one my son liked his old one that finally fell apart after years and did not want an upgrade thank you seller we really appreciate it your honesty re said used phone i recommend this seller very highly would but from them again                      64754 non-null  object \n",
            " 4   feel lucky find use phone not use hard phone line someone upgrade sell son like old finally fell apart year not want upgrade thank seller really appreciate honesty say use phone recommend seller highly                                                                                                                                                                               64754 non-null  object \n",
            " 5   0.822                                                                                                                                                                                                                                                                                                                                                                                   64754 non-null  float64\n",
            " 6   positive                                                                                                                                                                                                                                                                                                                                                                                64754 non-null  object \n",
            "dtypes: float64(1), object(6)\n",
            "memory usage: 3.5+ MB\n"
          ]
        }
      ],
      "source": [
        "df1 = pd.read_csv('/content/drive/MyDrive/majorprojet/amazon_unlocked_mobile_datasets_with_sentiment.csv')\n",
        "df1.info()"
      ]
    },
    {
      "cell_type": "code",
      "execution_count": null,
      "metadata": {
        "colab": {
          "base_uri": "https://localhost:8080/",
          "height": 632
        },
        "id": "hWHFF-xODaII",
        "outputId": "fd954423-9af4-4b3c-b7e8-f7680a3b8aaa"
      },
      "outputs": [
        {
          "output_type": "execute_result",
          "data": {
            "text/plain": [
              "  \"CLEAR CLEAN ESN\" Sprint EPIC 4G Galaxy SPH-D700*FRONT CAMERA*ANDROID*SLIDER*QWERTY KEYBOARD*TOUCH SCREEN  \\\n",
              "0  \"CLEAR CLEAN ESN\" Sprint EPIC 4G Galaxy SPH-D7...                                                          \n",
              "1  \"CLEAR CLEAN ESN\" Sprint EPIC 4G Galaxy SPH-D7...                                                          \n",
              "2  \"CLEAR CLEAN ESN\" Sprint EPIC 4G Galaxy SPH-D7...                                                          \n",
              "3  \"CLEAR CLEAN ESN\" Sprint EPIC 4G Galaxy SPH-D7...                                                          \n",
              "4  \"CLEAR CLEAN ESN\" Sprint EPIC 4G Galaxy SPH-D7...                                                          \n",
              "\n",
              "   Samsung  \\\n",
              "0  Samsung   \n",
              "1  Samsung   \n",
              "2  Samsung   \n",
              "3  Samsung   \n",
              "4  Samsung   \n",
              "\n",
              "  I feel so LUCKY to have found this used (phone to us & not used hard at all), phone on line from someone who upgraded and sold this one. My Son liked his old one that finally fell apart after 2.5+ years and didn't want an upgrade!! Thank you Seller, we really appreciate it & your honesty re: said used phone.I recommend this seller very highly & would but from them again!!  \\\n",
              "0  nice phone, nice up grade from my pantach revu...                                                                                                                                                                                                                                                                                                                                       \n",
              "1                                       Very pleased                                                                                                                                                                                                                                                                                                                                       \n",
              "2  It works good but it goes slow sometimes but i...                                                                                                                                                                                                                                                                                                                                       \n",
              "3  Great phone to replace my lost phone. The only...                                                                                                                                                                                                                                                                                                                                       \n",
              "4  I already had a phone with problems... I know ...                                                                                                                                                                                                                                                                                                                                       \n",
              "\n",
              "  i feel so lucky to have found this used phone to us not used hard at all phone on line from someone who upgraded and sold this one my son liked his old one that finally fell apart after years and did not want an upgrade thank you seller we really appreciate it your honesty re said used phone i recommend this seller very highly would but from them again  \\\n",
              "0  nice phone nice up grade from my pan tach revu...                                                                                                                                                                                                                                                                                                                   \n",
              "1                                       very pleased                                                                                                                                                                                                                                                                                                                   \n",
              "2  it works good but it goes slow sometimes but i...                                                                                                                                                                                                                                                                                                                   \n",
              "3  great phone to replace my lost phone the only ...                                                                                                                                                                                                                                                                                                                   \n",
              "4  i already had a phone with problems i know it ...                                                                                                                                                                                                                                                                                                                   \n",
              "\n",
              "  feel lucky find use phone not use hard phone line someone upgrade sell son like old finally fell apart year not want upgrade thank seller really appreciate honesty say use phone recommend seller highly  \\\n",
              "0  nice phone nice grade pan tach revue clean set...                                                                                                                                                          \n",
              "1                                            pleased                                                                                                                                                          \n",
              "2        work good go slow sometimes good phone love                                                                                                                                                          \n",
              "3  great phone replace lose phone thing volume bu...                                                                                                                                                          \n",
              "4  already phone problem know state used dang not...                                                                                                                                                          \n",
              "\n",
              "   0.822  positive  \n",
              "0  0.923  positive  \n",
              "1  0.493  positive  \n",
              "2  0.918  positive  \n",
              "3  0.696  positive  \n",
              "4 -0.906  negative  "
            ],
            "text/html": [
              "\n",
              "  <div id=\"df-44e4dbc2-4d9f-46e8-b5ee-b5d77b6f3efc\">\n",
              "    <div class=\"colab-df-container\">\n",
              "      <div>\n",
              "<style scoped>\n",
              "    .dataframe tbody tr th:only-of-type {\n",
              "        vertical-align: middle;\n",
              "    }\n",
              "\n",
              "    .dataframe tbody tr th {\n",
              "        vertical-align: top;\n",
              "    }\n",
              "\n",
              "    .dataframe thead th {\n",
              "        text-align: right;\n",
              "    }\n",
              "</style>\n",
              "<table border=\"1\" class=\"dataframe\">\n",
              "  <thead>\n",
              "    <tr style=\"text-align: right;\">\n",
              "      <th></th>\n",
              "      <th>\"CLEAR CLEAN ESN\" Sprint EPIC 4G Galaxy SPH-D700*FRONT CAMERA*ANDROID*SLIDER*QWERTY KEYBOARD*TOUCH SCREEN</th>\n",
              "      <th>Samsung</th>\n",
              "      <th>I feel so LUCKY to have found this used (phone to us &amp; not used hard at all), phone on line from someone who upgraded and sold this one. My Son liked his old one that finally fell apart after 2.5+ years and didn't want an upgrade!! Thank you Seller, we really appreciate it &amp; your honesty re: said used phone.I recommend this seller very highly &amp; would but from them again!!</th>\n",
              "      <th>i feel so lucky to have found this used phone to us not used hard at all phone on line from someone who upgraded and sold this one my son liked his old one that finally fell apart after years and did not want an upgrade thank you seller we really appreciate it your honesty re said used phone i recommend this seller very highly would but from them again</th>\n",
              "      <th>feel lucky find use phone not use hard phone line someone upgrade sell son like old finally fell apart year not want upgrade thank seller really appreciate honesty say use phone recommend seller highly</th>\n",
              "      <th>0.822</th>\n",
              "      <th>positive</th>\n",
              "    </tr>\n",
              "  </thead>\n",
              "  <tbody>\n",
              "    <tr>\n",
              "      <th>0</th>\n",
              "      <td>\"CLEAR CLEAN ESN\" Sprint EPIC 4G Galaxy SPH-D7...</td>\n",
              "      <td>Samsung</td>\n",
              "      <td>nice phone, nice up grade from my pantach revu...</td>\n",
              "      <td>nice phone nice up grade from my pan tach revu...</td>\n",
              "      <td>nice phone nice grade pan tach revue clean set...</td>\n",
              "      <td>0.923</td>\n",
              "      <td>positive</td>\n",
              "    </tr>\n",
              "    <tr>\n",
              "      <th>1</th>\n",
              "      <td>\"CLEAR CLEAN ESN\" Sprint EPIC 4G Galaxy SPH-D7...</td>\n",
              "      <td>Samsung</td>\n",
              "      <td>Very pleased</td>\n",
              "      <td>very pleased</td>\n",
              "      <td>pleased</td>\n",
              "      <td>0.493</td>\n",
              "      <td>positive</td>\n",
              "    </tr>\n",
              "    <tr>\n",
              "      <th>2</th>\n",
              "      <td>\"CLEAR CLEAN ESN\" Sprint EPIC 4G Galaxy SPH-D7...</td>\n",
              "      <td>Samsung</td>\n",
              "      <td>It works good but it goes slow sometimes but i...</td>\n",
              "      <td>it works good but it goes slow sometimes but i...</td>\n",
              "      <td>work good go slow sometimes good phone love</td>\n",
              "      <td>0.918</td>\n",
              "      <td>positive</td>\n",
              "    </tr>\n",
              "    <tr>\n",
              "      <th>3</th>\n",
              "      <td>\"CLEAR CLEAN ESN\" Sprint EPIC 4G Galaxy SPH-D7...</td>\n",
              "      <td>Samsung</td>\n",
              "      <td>Great phone to replace my lost phone. The only...</td>\n",
              "      <td>great phone to replace my lost phone the only ...</td>\n",
              "      <td>great phone replace lose phone thing volume bu...</td>\n",
              "      <td>0.696</td>\n",
              "      <td>positive</td>\n",
              "    </tr>\n",
              "    <tr>\n",
              "      <th>4</th>\n",
              "      <td>\"CLEAR CLEAN ESN\" Sprint EPIC 4G Galaxy SPH-D7...</td>\n",
              "      <td>Samsung</td>\n",
              "      <td>I already had a phone with problems... I know ...</td>\n",
              "      <td>i already had a phone with problems i know it ...</td>\n",
              "      <td>already phone problem know state used dang not...</td>\n",
              "      <td>-0.906</td>\n",
              "      <td>negative</td>\n",
              "    </tr>\n",
              "  </tbody>\n",
              "</table>\n",
              "</div>\n",
              "      <button class=\"colab-df-convert\" onclick=\"convertToInteractive('df-44e4dbc2-4d9f-46e8-b5ee-b5d77b6f3efc')\"\n",
              "              title=\"Convert this dataframe to an interactive table.\"\n",
              "              style=\"display:none;\">\n",
              "        \n",
              "  <svg xmlns=\"http://www.w3.org/2000/svg\" height=\"24px\"viewBox=\"0 0 24 24\"\n",
              "       width=\"24px\">\n",
              "    <path d=\"M0 0h24v24H0V0z\" fill=\"none\"/>\n",
              "    <path d=\"M18.56 5.44l.94 2.06.94-2.06 2.06-.94-2.06-.94-.94-2.06-.94 2.06-2.06.94zm-11 1L8.5 8.5l.94-2.06 2.06-.94-2.06-.94L8.5 2.5l-.94 2.06-2.06.94zm10 10l.94 2.06.94-2.06 2.06-.94-2.06-.94-.94-2.06-.94 2.06-2.06.94z\"/><path d=\"M17.41 7.96l-1.37-1.37c-.4-.4-.92-.59-1.43-.59-.52 0-1.04.2-1.43.59L10.3 9.45l-7.72 7.72c-.78.78-.78 2.05 0 2.83L4 21.41c.39.39.9.59 1.41.59.51 0 1.02-.2 1.41-.59l7.78-7.78 2.81-2.81c.8-.78.8-2.07 0-2.86zM5.41 20L4 18.59l7.72-7.72 1.47 1.35L5.41 20z\"/>\n",
              "  </svg>\n",
              "      </button>\n",
              "      \n",
              "  <style>\n",
              "    .colab-df-container {\n",
              "      display:flex;\n",
              "      flex-wrap:wrap;\n",
              "      gap: 12px;\n",
              "    }\n",
              "\n",
              "    .colab-df-convert {\n",
              "      background-color: #E8F0FE;\n",
              "      border: none;\n",
              "      border-radius: 50%;\n",
              "      cursor: pointer;\n",
              "      display: none;\n",
              "      fill: #1967D2;\n",
              "      height: 32px;\n",
              "      padding: 0 0 0 0;\n",
              "      width: 32px;\n",
              "    }\n",
              "\n",
              "    .colab-df-convert:hover {\n",
              "      background-color: #E2EBFA;\n",
              "      box-shadow: 0px 1px 2px rgba(60, 64, 67, 0.3), 0px 1px 3px 1px rgba(60, 64, 67, 0.15);\n",
              "      fill: #174EA6;\n",
              "    }\n",
              "\n",
              "    [theme=dark] .colab-df-convert {\n",
              "      background-color: #3B4455;\n",
              "      fill: #D2E3FC;\n",
              "    }\n",
              "\n",
              "    [theme=dark] .colab-df-convert:hover {\n",
              "      background-color: #434B5C;\n",
              "      box-shadow: 0px 1px 3px 1px rgba(0, 0, 0, 0.15);\n",
              "      filter: drop-shadow(0px 1px 2px rgba(0, 0, 0, 0.3));\n",
              "      fill: #FFFFFF;\n",
              "    }\n",
              "  </style>\n",
              "\n",
              "      <script>\n",
              "        const buttonEl =\n",
              "          document.querySelector('#df-44e4dbc2-4d9f-46e8-b5ee-b5d77b6f3efc button.colab-df-convert');\n",
              "        buttonEl.style.display =\n",
              "          google.colab.kernel.accessAllowed ? 'block' : 'none';\n",
              "\n",
              "        async function convertToInteractive(key) {\n",
              "          const element = document.querySelector('#df-44e4dbc2-4d9f-46e8-b5ee-b5d77b6f3efc');\n",
              "          const dataTable =\n",
              "            await google.colab.kernel.invokeFunction('convertToInteractive',\n",
              "                                                     [key], {});\n",
              "          if (!dataTable) return;\n",
              "\n",
              "          const docLinkHtml = 'Like what you see? Visit the ' +\n",
              "            '<a target=\"_blank\" href=https://colab.research.google.com/notebooks/data_table.ipynb>data table notebook</a>'\n",
              "            + ' to learn more about interactive tables.';\n",
              "          element.innerHTML = '';\n",
              "          dataTable['output_type'] = 'display_data';\n",
              "          await google.colab.output.renderOutput(dataTable, element);\n",
              "          const docLink = document.createElement('div');\n",
              "          docLink.innerHTML = docLinkHtml;\n",
              "          element.appendChild(docLink);\n",
              "        }\n",
              "      </script>\n",
              "    </div>\n",
              "  </div>\n",
              "  "
            ]
          },
          "metadata": {},
          "execution_count": 4
        }
      ],
      "source": [
        "df1.head()"
      ]
    },
    {
      "cell_type": "code",
      "execution_count": null,
      "metadata": {
        "colab": {
          "base_uri": "https://localhost:8080/"
        },
        "id": "NfNkQez7DcCZ",
        "outputId": "7fab0e8c-c886-4ad0-890f-2e88592319d7"
      },
      "outputs": [
        {
          "output_type": "stream",
          "name": "stdout",
          "text": [
            "split data --- start\n"
          ]
        }
      ],
      "source": [
        "print('split data --- start')\n",
        "array = review.values\n",
        "X = array[:, 0:1]\n",
        "Y = array[:, 1]\n",
        "size = 0.3"
      ]
    },
    {
      "cell_type": "code",
      "execution_count": null,
      "metadata": {
        "colab": {
          "base_uri": "https://localhost:8080/"
        },
        "id": "kdDpA4whDeM3",
        "outputId": "47d7e547-5902-45f2-9c7c-f8aceb13615d"
      },
      "outputs": [
        {
          "output_type": "stream",
          "name": "stdout",
          "text": [
            "split data --- end\n"
          ]
        }
      ],
      "source": [
        "trainX, testX, trainY, testY = ms.train_test_split(X, Y, test_size=size, shuffle=True)\n",
        "print('split data --- end')"
      ]
    },
    {
      "cell_type": "code",
      "execution_count": null,
      "metadata": {
        "colab": {
          "base_uri": "https://localhost:8080/"
        },
        "id": "jNxB998QDiKK",
        "outputId": "33d3c78b-f708-42dc-e6ce-6b4f737c62f9"
      },
      "outputs": [
        {
          "output_type": "stream",
          "name": "stdout",
          "text": [
            "feature extraction --- start\n",
            "feature extraction --- end\n"
          ]
        }
      ],
      "source": [
        "print('feature extraction --- start')\n",
        "tv = TfidfVectorizer(use_idf=True, min_df=0.0, max_df=1.0, ngram_range=(1, 2), sublinear_tf=False,\n",
        "                     max_features=10000, smooth_idf=True, stop_words='english')\n",
        "tv_train = tv.fit_transform(trainX.ravel())\n",
        "tv_test = tv.transform(testX.ravel())  # transform test review into features\n",
        "print('feature extraction --- end')"
      ]
    },
    {
      "cell_type": "code",
      "execution_count": null,
      "metadata": {
        "colab": {
          "base_uri": "https://localhost:8080/"
        },
        "id": "X2Ed77uKDlyH",
        "outputId": "d4d54078-da82-4325-93aa-92f4cb9dc839"
      },
      "outputs": [
        {
          "output_type": "stream",
          "name": "stdout",
          "text": [
            "latent semantic analysis --- start\n",
            "latent semantic analysis --- end\n"
          ]
        }
      ],
      "source": [
        "print('latent semantic analysis --- start')\n",
        "svd = TruncatedSVD(100)\n",
        "lsa = make_pipeline(svd, Normalizer(copy=False))\n",
        "lsa_train = lsa.fit_transform(tv_train)\n",
        "lsa_test = lsa.transform(tv_test)  # transform tfidf test\n",
        "print('latent semantic analysis --- end')"
      ]
    },
    {
      "cell_type": "code",
      "execution_count": null,
      "metadata": {
        "colab": {
          "base_uri": "https://localhost:8080/"
        },
        "id": "rHNxrlahDp2v",
        "outputId": "f38c69a6-9f31-4af9-b06b-84cdaf5a6556"
      },
      "outputs": [
        {
          "output_type": "stream",
          "name": "stdout",
          "text": [
            "build and predict --- start\n",
            "build and predict --- end\n"
          ]
        }
      ],
      "source": [
        "print('build and predict --- start')\n",
        "svm = LinearSVC()\n",
        "svm.fit(lsa_train, trainY)\n",
        "svm_pred = svm.predict(lsa_test)\n",
        "print('build and predict --- end')"
      ]
    },
    {
      "cell_type": "code",
      "execution_count": null,
      "metadata": {
        "colab": {
          "base_uri": "https://localhost:8080/"
        },
        "id": "iPcmH7AqDtiX",
        "outputId": "9692519a-e2a4-4de7-e9df-9bdbd9c5b6d6"
      },
      "outputs": [
        {
          "output_type": "stream",
          "name": "stdout",
          "text": [
            "\n",
            "Model Evaluation:\n"
          ]
        }
      ],
      "source": [
        "print('\\nModel Evaluation:')\n",
        "svm_accuracy = np.round(mt.accuracy_score(testY, svm_pred), 3)\n",
        "svm_precision = np.round(mt.precision_score(testY, svm_pred, average='macro'), 3)\n",
        "svm_recall = np.round(mt.recall_score(testY, svm_pred, average='macro'), 3)\n",
        "svm_f1 = np.round(mt.f1_score(testY, svm_pred, average='macro'), 3)"
      ]
    },
    {
      "cell_type": "code",
      "execution_count": null,
      "metadata": {
        "colab": {
          "base_uri": "https://localhost:8080/"
        },
        "id": "h2EjEstsDv4u",
        "outputId": "2af1f392-9b75-477c-da0d-1ad8306a55d4"
      },
      "outputs": [
        {
          "output_type": "stream",
          "name": "stdout",
          "text": [
            "Performance Metrics:\n",
            "|         |   accuracy |   precision |   recall |    f1 |\n",
            "|---------|------------|-------------|----------|-------|\n",
            "| metrics |      0.816 |       0.715 |    0.691 | 0.703 |\n"
          ]
        }
      ],
      "source": [
        "svm_metrics = np.array([svm_accuracy, svm_precision, svm_recall, svm_f1])\n",
        "svm_metrics = pd.DataFrame([svm_metrics], columns=['accuracy', 'precision', 'recall', 'f1'], index=['metrics'])\n",
        "print('Performance Metrics:')\n",
        "print(tabulate(svm_metrics, headers='keys', tablefmt='github'))"
      ]
    },
    {
      "cell_type": "code",
      "execution_count": null,
      "metadata": {
        "colab": {
          "base_uri": "https://localhost:8080/",
          "height": 327
        },
        "id": "180yZ65LDycJ",
        "outputId": "1d8e0da4-db54-405f-d153-fc9c24c41bb9"
      },
      "outputs": [
        {
          "output_type": "display_data",
          "data": {
            "text/plain": [
              "<Figure size 432x288 with 0 Axes>"
            ]
          },
          "metadata": {}
        },
        {
          "output_type": "display_data",
          "data": {
            "text/plain": [
              "<Figure size 432x288 with 1 Axes>"
            ],
            "image/png": "[encoded data removed]"
          },
          "metadata": {
            "needs_background": "light"
          }
        }
      ],
      "source": [
        "fig = plt.figure()\n",
        "ax = svm_metrics.plot.bar()\n",
        "plt.title('SLA Hybrid Model\\n')\n",
        "plt.ylabel('result')\n",
        "plt.xlabel('model evualtion')\n",
        "# Create a sample dataframe with an text index\n",
        "plotdata = pd.DataFrame(\n",
        "    {\"sla_hybrid\": [svm_accuracy, svm_precision, svm_recall, svm_f1]}, \n",
        "    index=[\"accuracy\", \"precision\", \"recall\", \"f1\"])\n",
        "# Plot a bar chart\n",
        "#plotdata.plot(kind=\"bar\")\n",
        "plotdata['sla_hybrid'].plot(kind=\"bar\", color=['blue', 'orange', 'green', 'red'])\n",
        "plt.xticks(rotation=-360)  # rotate x labels\n",
        "plt.ylim([0.1, 1.0])\n",
        "plt.savefig('hybrid_performance.png', format='png', transparent=True)  # save result\n",
        "plt.show()"
      ]
    },
    {
      "cell_type": "code",
      "execution_count": null,
      "metadata": {
        "colab": {
          "base_uri": "https://localhost:8080/"
        },
        "id": "XhApgv3vD03W",
        "outputId": "b24bf36f-b708-43bf-b747-6f7d361604cb"
      },
      "outputs": [
        {
          "output_type": "stream",
          "name": "stdout",
          "text": [
            "\n",
            "Confusion Matrix of SLA Hybrid Approach:\n",
            "\n"
          ]
        }
      ],
      "source": [
        "print('\\nConfusion Matrix of SLA Hybrid Approach:\\n')"
      ]
    },
    {
      "cell_type": "code",
      "execution_count": null,
      "metadata": {
        "id": "zUEZy1A6D3aR"
      },
      "outputs": [],
      "source": [
        "labels = ['positive', 'negative', 'neutral']\n",
        "svm_cm = mt.confusion_matrix(testY, svm_pred, labels=labels)"
      ]
    },
    {
      "cell_type": "code",
      "execution_count": null,
      "metadata": {
        "colab": {
          "base_uri": "https://localhost:8080/",
          "height": 304
        },
        "id": "AtmwtvySD5sf",
        "outputId": "04d9b7d2-bea7-46e6-e7c3-cfd937fc0161"
      },
      "outputs": [
        {
          "output_type": "display_data",
          "data": {
            "text/plain": [
              "<Figure size 432x288 with 2 Axes>"
            ],
            "image/png": "[encoded data removed]"
          },
          "metadata": {
            "needs_background": "light"
          }
        }
      ],
      "source": [
        "fig = plt.figure()\n",
        "ax = fig.add_subplot(111)\n",
        "plt.title('Confusion Matrix of SLA Hybrid Approach\\n')\n",
        "fig.colorbar(ax.matshow(svm_cm))\n",
        "ax.set_xticklabels([''] + labels)\n",
        "ax.set_yticklabels([''] + labels)\n",
        "plt.xlabel('predicted')\n",
        "plt.ylabel('true')\n",
        "plt.savefig('hybrid_confusion_matrix.png',  format='png', transparent=False)  # save result\n",
        "plt.show()"
      ]
    }
  ],
  "metadata": {
    "colab": {
      "name": "Opinion-mining-on-sarcasm-detection.ipynb",
      "provenance": [],
      "mount_file_id": "1-hyHSiP65h4watmx0IKHMfp5Sgyxlmbu",
      "authorship_tag": "ABX9TyPq5Wmlh+418Zd53bkXLn08",
      "include_colab_link": true
    },
    "kernelspec": {
      "display_name": "Python 3",
      "name": "python3"
    },
    "language_info": {
      "name": "python"
    }
  },
  "nbformat": 4,
  "nbformat_minor": 0
}